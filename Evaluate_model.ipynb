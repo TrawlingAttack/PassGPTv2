{
 "cells": [
  {
   "cell_type": "markdown",
   "metadata": {},
   "source": [
    "# Nội dung\n",
    "## 1.   Giới thiệu\n",
    "  \n",
    "Trong bài đánh giá này, tôi đánh giá hiệu suất của các mô hình đoán mật khẩu hiện đại, bao gồm PassGAN, GNPassGAN, PassFlow, và PassGPT. Tôi sẽ thực hiện các thử nghiệm trên nhiều bộ dữ liệu khác nhau và sử dụng các kỹ thuật tấn công mật khẩu phổ biến như trawling attack và hybrid attack để đánh giá hiệu quả của từng mô hình.\n",
    "\n",
    "Thư viện sử dụng trong bài đánh giá này:"
   ]
  },
  {
   "cell_type": "code",
   "execution_count": 15,
   "metadata": {},
   "outputs": [
    {
     "name": "stdout",
     "output_type": "stream",
     "text": [
      "Requirement already satisfied: matplotlib==3.6.3 in c:\\users\\minhk\\appdata\\local\\programs\\python\\python38\\lib\\site-packages (3.6.3)\n",
      "Requirement already satisfied: fonttools>=4.22.0 in c:\\users\\minhk\\appdata\\local\\programs\\python\\python38\\lib\\site-packages (from matplotlib==3.6.3) (4.39.3)\n",
      "Requirement already satisfied: python-dateutil>=2.7 in c:\\users\\minhk\\appdata\\local\\programs\\python\\python38\\lib\\site-packages (from matplotlib==3.6.3) (2.8.2)\n",
      "Requirement already satisfied: pillow>=6.2.0 in c:\\users\\minhk\\appdata\\local\\programs\\python\\python38\\lib\\site-packages (from matplotlib==3.6.3) (9.5.0)\n",
      "Requirement already satisfied: contourpy>=1.0.1 in c:\\users\\minhk\\appdata\\local\\programs\\python\\python38\\lib\\site-packages (from matplotlib==3.6.3) (1.0.7)\n",
      "Requirement already satisfied: packaging>=20.0 in c:\\users\\minhk\\appdata\\local\\programs\\python\\python38\\lib\\site-packages (from matplotlib==3.6.3) (23.1)\n",
      "Requirement already satisfied: kiwisolver>=1.0.1 in c:\\users\\minhk\\appdata\\local\\programs\\python\\python38\\lib\\site-packages (from matplotlib==3.6.3) (1.4.4)\n",
      "Requirement already satisfied: pyparsing>=2.2.1 in c:\\users\\minhk\\appdata\\local\\programs\\python\\python38\\lib\\site-packages (from matplotlib==3.6.3) (3.0.9)\n",
      "Requirement already satisfied: numpy>=1.19 in c:\\users\\minhk\\appdata\\local\\programs\\python\\python38\\lib\\site-packages (from matplotlib==3.6.3) (1.20.3)\n",
      "Requirement already satisfied: cycler>=0.10 in c:\\users\\minhk\\appdata\\local\\programs\\python\\python38\\lib\\site-packages (from matplotlib==3.6.3) (0.11.0)\n",
      "Requirement already satisfied: six>=1.5 in c:\\users\\minhk\\appdata\\local\\programs\\python\\python38\\lib\\site-packages (from python-dateutil>=2.7->matplotlib==3.6.3) (1.15.0)\n",
      "Note: you may need to restart the kernel to use updated packages.\n"
     ]
    },
    {
     "name": "stderr",
     "output_type": "stream",
     "text": [
      "WARNING: You are using pip version 19.2.3, however version 25.0.1 is available.\n",
      "You should consider upgrading via the 'python -m pip install --upgrade pip' command.\n"
     ]
    }
   ],
   "source": [
    "pip install matplotlib==3.6.3"
   ]
  },
  {
   "cell_type": "code",
   "execution_count": 22,
   "metadata": {},
   "outputs": [],
   "source": [
    "import numpy as np\n",
    "import matplotlib.pyplot as plt"
   ]
  },
  {
   "cell_type": "markdown",
   "metadata": {},
   "source": [
    "## 2.   Các mô hình sử dụng trong đánh giá\n",
    "### *   PassGAN\n",
    "PassGAN (Password Generative Adversarial Network) là một trong những mô hình đầu tiên ứng dụng GAN (Generative Adversarial Network) vào việc tạo mật khẩu. Nó sử dụng một mạng sinh (Generator) để tạo ra mật khẩu mới và một mạng phân biệt (Discriminator) để đánh giá mức độ chân thực của mật khẩu đó. Mô hình này có thể học được quy luật phân phối mật khẩu từ tập dữ liệu thực tế, giúp tạo ra các mật khẩu giống với những gì người dùng thường sử dụng."
   ]
  },
  {
   "cell_type": "code",
   "execution_count": 23,
   "metadata": {},
   "outputs": [
    {
     "name": "stdout",
     "output_type": "stream",
     "text": [
      "Độ dài bộ sinh của PassGAN: 100\n",
      "['marcale3', 'mamilie76', 'tatoiro', 'sheddo', 'babyoud10', 'thsdows', 'diago1', '275163', 'suga10', '123456k']\n"
     ]
    }
   ],
   "source": [
    "with open(\"PassGAN\\gen_passwords.txt\", \"r\", encoding=\"utf-8\") as file:\n",
    "    GAN_pass = [line.strip() for line in file]\n",
    "print(\"Độ dài bộ sinh của PassGAN: \" + str(len(GAN_pass)))\n",
    "print(GAN_pass[:10])  # In thử 10 mật khẩu đầu tiên"
   ]
  },
  {
   "cell_type": "markdown",
   "metadata": {},
   "source": [
    "### *   GNPassGAN\n",
    "GNPassGAN là phiên bản cải tiến của PassGAN, trong đó GN (Guided Noise) giúp hướng dẫn quá trình sinh mật khẩu bằng cách thêm thông tin ràng buộc vào quá trình học. Thay vì chỉ dựa vào GAN để sinh mật khẩu ngẫu nhiên, GNPassGAN sử dụng một số thông tin có cấu trúc để đảm bảo mật khẩu sinh ra có đặc điểm phù hợp với mật khẩu thực tế."
   ]
  },
  {
   "cell_type": "code",
   "execution_count": 24,
   "metadata": {},
   "outputs": [
    {
     "name": "stdout",
     "output_type": "stream",
     "text": [
      "Độ dài bộ sinh của GNPassGAN: 100\n",
      "['nin0910177', 'chariaaliza', '45911765', '48232a2939', '23302120', 'boblsir', '2106861', '891050584', '01222505', '79892400']\n"
     ]
    }
   ],
   "source": [
    "with open(\"GNPassGAN\\generated\\sample.txt\", \"r\", encoding=\"utf-8\") as file:\n",
    "    GNGAN_pass = [line.strip() for line in file]\n",
    "print(\"Độ dài bộ sinh của GNPassGAN: \" + str(len(GNGAN_pass)))\n",
    "print(GNGAN_pass[:10])  # In thử 10 mật khẩu đầu tiên"
   ]
  },
  {
   "cell_type": "markdown",
   "metadata": {},
   "source": [
    "### *   Omen\n",
    "Omen là một mô hình dựa trên Markov Chain, trong đó mật khẩu được sinh ra dựa trên xác suất của các ký tự kế tiếp nhau. Mô hình này học từ tập dữ liệu mật khẩu thực tế để xác định các chuỗi ký tự có khả năng xuất hiện cao nhất."
   ]
  },
  {
   "cell_type": "code",
   "execution_count": 25,
   "metadata": {},
   "outputs": [
    {
     "name": "stdout",
     "output_type": "stream",
     "text": [
      "Độ dài bộ sinh của Omen: 100\n",
      "['cristo', 'cristy', '042424', 'sonico', 'sonick', 'son200', 'son111', 'son112', 'son110', 'son131']\n"
     ]
    }
   ],
   "source": [
    "with open(\"Markov-Omen\\pass.txt\", \"r\", encoding=\"utf-8\") as file:\n",
    "    Omen_pass = [line.strip() for line in file]\n",
    "print(\"Độ dài bộ sinh của Omen: \" + str(len(Omen_pass)))\n",
    "print(Omen_pass[:10])  # In thử 10 mật khẩu đầu tiên"
   ]
  },
  {
   "cell_type": "markdown",
   "metadata": {},
   "source": [
    "### * PassGPT\n",
    "PassGPT là một mô hình dựa trên Transformer, cụ thể là kiến trúc GPT (Generative Pre-trained Transformer), để sinh mật khẩu có tính chân thực cao. Mô hình này học cách dự đoán và sinh ra từng ký tự trong mật khẩu dựa trên ngữ cảnh của các ký tự trước đó. Nó có thể học được các quy tắc phức tạp hơn so với Markov hay GAN."
   ]
  },
  {
   "cell_type": "code",
   "execution_count": 26,
   "metadata": {},
   "outputs": [
    {
     "name": "stdout",
     "output_type": "stream",
     "text": [
      "Độ dài bộ sinh của PassGPT: 100\n",
      "['123456', '12345', '123456789', 'password', 'iloveyou', 'princess', '1234567', 'rockyou', '12345678', 'abc123']\n"
     ]
    }
   ],
   "source": [
    "with open(\"PassGPT//configs//rockyoumini.txt\", \"r\", encoding=\"utf-8\") as file:\n",
    "    PassGPT_pass = [line.strip() for line in file]\n",
    "print(\"Độ dài bộ sinh của PassGPT: \" + str(len(PassGPT_pass)))\n",
    "print(PassGPT_pass[:10])  # In thử 10 mật khẩu đầu tiên"
   ]
  },
  {
   "cell_type": "markdown",
   "metadata": {},
   "source": [
    "## 3. Các bộ dữ liệu kiểm tra\n",
    "### * Rockyou\n",
    "Bộ dữ liệu Rockyou chứa hàng triệu mật khẩu thực tế bị rò rỉ từ các tài khoản bị xâm nhập. Đây là một trong những bộ dữ liệu phổ biến nhất để huấn luyện và kiểm tra các mô hình đoán mật khẩu."
   ]
  },
  {
   "cell_type": "code",
   "execution_count": 27,
   "metadata": {},
   "outputs": [
    {
     "name": "stdout",
     "output_type": "stream",
     "text": [
      "Độ dài bộ dữ liệu rockyou: 272\n",
      "['burlock1', '15kongro', 'lutawin2003', 'STARR23', 'ilovetony93', 'louphips', 'fuckidy', '23122527', 'walmart78', 'DIPTHAT!']\n"
     ]
    }
   ],
   "source": [
    "with open(\"Dataset\\Rockyou.txt\", \"r\", encoding=\"utf-8\") as file:\n",
    "    rockyou_pass = [line.strip() for line in file]\n",
    "print(\"Độ dài bộ dữ liệu rockyou: \" + str(len(rockyou_pass)))\n",
    "print(rockyou_pass[:10])  # In thử 10 mật khẩu đầu tiên"
   ]
  },
  {
   "cell_type": "markdown",
   "metadata": {},
   "source": [
    "### * Lindked\n",
    "Bộ dữ liệu LinkedIn gồm các mật khẩu bị lộ từ sự cố bảo mật của LinkedIn. Dữ liệu này phản ánh mật khẩu thực tế của người dùng trên mạng xã hội."
   ]
  },
  {
   "cell_type": "code",
   "execution_count": 28,
   "metadata": {},
   "outputs": [
    {
     "name": "stdout",
     "output_type": "stream",
     "text": [
      "Độ dài bộ dữ liệu Lindked: 49\n",
      "['123456', 'linkedin', 'password', '123456789', '12345678', '111111', '1234567', 'sunshine', 'qwerty', '654321']\n"
     ]
    }
   ],
   "source": [
    "with open(\"Dataset\\Lindked.txt\", \"r\", encoding=\"utf-8\") as file:\n",
    "    lindked_pass = [line.strip() for line in file]\n",
    "print(\"Độ dài bộ dữ liệu Lindked: \" + str(len(lindked_pass)))\n",
    "print(lindked_pass[:10])  # In thử 10 mật khẩu đầu tiên"
   ]
  },
  {
   "cell_type": "markdown",
   "metadata": {},
   "source": [
    "### * Yahoo\n",
    "Bộ dữ liệu Yahoo chứa mật khẩu từ một vụ rò rỉ lớn của Yahoo, giúp đánh giá hiệu suất của mô hình trên các tài khoản email."
   ]
  },
  {
   "cell_type": "code",
   "execution_count": 29,
   "metadata": {},
   "outputs": [
    {
     "name": "stdout",
     "output_type": "stream",
     "text": [
      "Độ dài bộ dữ liệu Yahoo: 236\n",
      "['corvette', 'hello', 'martin', 'heather', 'secret', 'fucker', 'merlin', 'diamond', '1234qwer', 'gfhjkm']\n"
     ]
    }
   ],
   "source": [
    "with open(\"Dataset\\Yahoo.txt\", \"r\", encoding=\"utf-8\") as file:\n",
    "    yahoo_pass = [line.strip() for line in file]\n",
    "print(\"Độ dài bộ dữ liệu Yahoo: \" + str(len(yahoo_pass)))\n",
    "print(yahoo_pass[:10])  # In thử 10 mật khẩu đầu tiên"
   ]
  },
  {
   "cell_type": "markdown",
   "metadata": {},
   "source": [
    "### * Facebook\n",
    "Bộ dữ liệu Facebook chứa thông tin mật khẩu bị rò rỉ từ nền tảng này, hỗ trợ kiểm tra khả năng đoán mật khẩu của các mô hình trên dữ liệu mạng xã hội."
   ]
  },
  {
   "cell_type": "code",
   "execution_count": 3,
   "metadata": {},
   "outputs": [
    {
     "name": "stdout",
     "output_type": "stream",
     "text": [
      "Độ dài bộ dữ liệu Facebook: 93\n",
      "['1234567', 'dragon', '123123', 'baseball', 'abc123', 'football', 'monkey', 'letmein', '696969', 'shadow']\n"
     ]
    }
   ],
   "source": [
    "with open(\"Dataset\\Facebook.txt\", \"r\", encoding=\"utf-8\") as file:\n",
    "    facebook_pass = [line.strip() for line in file]\n",
    "print(\"Độ dài bộ dữ liệu Facebook: \" + str(len(facebook_pass)))\n",
    "print(facebook_pass[:10])  # In thử 10 mật khẩu đầu tiên"
   ]
  },
  {
   "cell_type": "markdown",
   "metadata": {},
   "source": [
    "## 4. Kỹ thuật Password attack sử dụng bộ từ điển\n",
    "### * Trawling attack\n",
    "Trawling attack là kỹ thuật tạo ra một danh sách mật khẩu phổ biến và thử chúng trên một số lượng lớn tài khoản. Mục tiêu của phương pháp này là khai thác những mật khẩu phổ biến mà nhiều người sử dụng."
   ]
  },
  {
   "cell_type": "code",
   "execution_count": 31,
   "metadata": {},
   "outputs": [
    {
     "data": {
      "image/png": "[encoded data removed]",
      "text/plain": [
       "<Figure size 1000x600 with 1 Axes>"
      ]
     },
     "metadata": {},
     "output_type": "display_data"
    }
   ],
   "source": [
    "# Hàm tính số mật khẩu khớp với RockYou theo từng khúc\n",
    "def match_count(passwords, rockyou_set, chunk_size=10):\n",
    "    matches = []\n",
    "    total_matches = 0\n",
    "    for i in range(0, len(passwords), chunk_size):\n",
    "        chunk = passwords[i:i+chunk_size]\n",
    "        matched = sum(1 for pw in chunk if pw in rockyou_set)\n",
    "        total_matches += matched\n",
    "        matches.append(total_matches)\n",
    "    return matches\n",
    "\n",
    "# Chia thành từng khúc và tính số mật khẩu khớp\n",
    "chunk_size = 10\n",
    "GAN_match = match_count(GAN_pass, rockyou_pass, chunk_size)\n",
    "GNGAN_match = match_count(GNGAN_pass, rockyou_pass, chunk_size)\n",
    "Omen_match = match_count(Omen_pass, rockyou_pass, chunk_size)\n",
    "PassGPT_match = match_count(PassGPT_pass, rockyou_pass, chunk_size)\n",
    "\n",
    "# Vẽ biểu đồ\n",
    "plt.figure(figsize=(10, 6))\n",
    "x_range = np.arange(len(GAN_match)) * chunk_size\n",
    "\n",
    "plt.plot(x_range, GAN_match, label=\"PassGAN\", marker='o')\n",
    "plt.plot(x_range, GNGAN_match, label=\"GNPassGAN\", marker='s')\n",
    "plt.plot(x_range, Omen_match, label=\"Omen (Markov)\", marker='^')\n",
    "plt.plot(x_range, PassGPT_match, label=\"PassGPT\", marker='d')\n",
    "\n",
    "plt.xlabel(\"Số lượng mật khẩu sinh ra\")\n",
    "plt.ylabel(\"Số lượng mật khẩu khớp với RockYou\")\n",
    "plt.title(\"So sánh hiệu suất đoán mật khẩu\")\n",
    "plt.legend()\n",
    "plt.grid()\n",
    "plt.show()"
   ]
  },
  {
   "cell_type": "code",
   "execution_count": 35,
   "metadata": {},
   "outputs": [
    {
     "data": {
      "text/html": [
       "<div>\n",
       "<style scoped>\n",
       "    .dataframe tbody tr th:only-of-type {\n",
       "        vertical-align: middle;\n",
       "    }\n",
       "\n",
       "    .dataframe tbody tr th {\n",
       "        vertical-align: top;\n",
       "    }\n",
       "\n",
       "    .dataframe thead th {\n",
       "        text-align: right;\n",
       "    }\n",
       "</style>\n",
       "<table border=\"1\" class=\"dataframe\">\n",
       "  <thead>\n",
       "    <tr style=\"text-align: right;\">\n",
       "      <th></th>\n",
       "      <th>Dataset</th>\n",
       "      <th>PassGAN</th>\n",
       "      <th>GNPassGAN</th>\n",
       "      <th>Markov</th>\n",
       "      <th>PassGPT</th>\n",
       "      <th>All Models</th>\n",
       "    </tr>\n",
       "  </thead>\n",
       "  <tbody>\n",
       "    <tr>\n",
       "      <th>0</th>\n",
       "      <td>RockYou</td>\n",
       "      <td>3 (1.10%)</td>\n",
       "      <td>6 (2.21%)</td>\n",
       "      <td>2 (0.74%)</td>\n",
       "      <td>27 (9.93%)</td>\n",
       "      <td>36 (13.24%)</td>\n",
       "    </tr>\n",
       "    <tr>\n",
       "      <th>1</th>\n",
       "      <td>LinkedIn</td>\n",
       "      <td>0 (0.00%)</td>\n",
       "      <td>0 (0.00%)</td>\n",
       "      <td>0 (0.00%)</td>\n",
       "      <td>28 (57.14%)</td>\n",
       "      <td>28 (57.14%)</td>\n",
       "    </tr>\n",
       "    <tr>\n",
       "      <th>2</th>\n",
       "      <td>Facebook</td>\n",
       "      <td>0 (0.00%)</td>\n",
       "      <td>0 (0.00%)</td>\n",
       "      <td>0 (0.00%)</td>\n",
       "      <td>30 (32.26%)</td>\n",
       "      <td>30 (32.26%)</td>\n",
       "    </tr>\n",
       "  </tbody>\n",
       "</table>\n",
       "</div>"
      ],
      "text/plain": [
       "    Dataset    PassGAN  GNPassGAN     Markov      PassGPT   All Models\n",
       "0   RockYou  3 (1.10%)  6 (2.21%)  2 (0.74%)   27 (9.93%)  36 (13.24%)\n",
       "1  LinkedIn  0 (0.00%)  0 (0.00%)  0 (0.00%)  28 (57.14%)  28 (57.14%)\n",
       "2  Facebook  0 (0.00%)  0 (0.00%)  0 (0.00%)  30 (32.26%)  30 (32.26%)"
      ]
     },
     "execution_count": 35,
     "metadata": {},
     "output_type": "execute_result"
    }
   ],
   "source": [
    "import pandas as pd\n",
    "# Hàm tính số mật khẩu khớp với tập dataset\n",
    "def compare_passwords(model_pass, dataset_pass):\n",
    "    model_set = set(model_pass)\n",
    "    dataset_set = set(dataset_pass)\n",
    "\n",
    "    matched = model_set & dataset_set  # Mật khẩu khớp\n",
    "    match_count = len(matched)\n",
    "    match_percent = (match_count / len(dataset_set)) * 100 if len(dataset_set) > 0 else 0\n",
    "\n",
    "    return match_count, match_percent\n",
    "\n",
    "# So sánh từng model với từng dataset\n",
    "datasets = {\n",
    "    \"RockYou\": rockyou_pass,\n",
    "    \"LinkedIn\": lindked_pass,\n",
    "    \"Facebook\": facebook_pass\n",
    "}\n",
    "\n",
    "models = {\n",
    "    \"PassGAN\": GAN_pass,\n",
    "    \"GNPassGAN\": GNGAN_pass,\n",
    "    \"Markov\": Omen_pass,\n",
    "    \"PassGPT\": PassGPT_pass\n",
    "}\n",
    "\n",
    "# Kết hợp tất cả các model\n",
    "all_models = set(GAN_pass) | set(GNGAN_pass) | set(Omen_pass) | set(PassGPT_pass)\n",
    "\n",
    "# Lưu kết quả so sánh vào DataFrame\n",
    "results = []\n",
    "for dataset_name, dataset_pass in datasets.items():\n",
    "    row = [dataset_name]\n",
    "    for model_name, model_pass in models.items():\n",
    "        match_count, match_percent = compare_passwords(model_pass, dataset_pass)\n",
    "        row.append(f\"{match_count} ({match_percent:.2f}%)\")\n",
    "\n",
    "    # Thêm cột tổng hợp (PassGAN + GNPassGAN + Markov + PassGPT)\n",
    "    total_match, total_percent = compare_passwords(all_models, dataset_pass)\n",
    "    row.append(f\"{total_match} ({total_percent:.2f}%)\")\n",
    "\n",
    "    results.append(row)\n",
    "\n",
    "# Tạo DataFrame từ kết quả\n",
    "columns = [\"Dataset\"] + list(models.keys()) + [\"All Models\"]\n",
    "df = pd.DataFrame(results, columns=columns)\n",
    "\n",
    "# Hiển thị kết quả dạng bảng\n",
    "df\n"
   ]
  },
  {
   "cell_type": "code",
   "execution_count": null,
   "metadata": {},
   "outputs": [],
   "source": []
  },
  {
   "cell_type": "code",
   "execution_count": null,
   "metadata": {},
   "outputs": [],
   "source": []
  },
  {
   "cell_type": "markdown",
   "metadata": {},
   "source": [
    "### * Hydrid attack\n",
    "Hybrid attack kết hợp giữa tấn công từ điển và brute-force, trong đó nó sử dụng một danh sách mật khẩu phổ biến và áp dụng các quy tắc biến đổi để thử nhiều biến thể khác nhau của một mật khẩu gốc."
   ]
  },
  {
   "cell_type": "code",
   "execution_count": null,
   "metadata": {},
   "outputs": [],
   "source": []
  }
 ],
 "metadata": {
  "kernelspec": {
   "display_name": "Python 3",
   "language": "python",
   "name": "python3"
  },
  "language_info": {
   "codemirror_mode": {
    "name": "ipython",
    "version": 3
   },
   "file_extension": ".py",
   "mimetype": "text/x-python",
   "name": "python",
   "nbconvert_exporter": "python",
   "pygments_lexer": "ipython3",
   "version": "3.8.0"
  }
 },
 "nbformat": 4,
 "nbformat_minor": 2
}
